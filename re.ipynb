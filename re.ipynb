{
 "cells": [
  {
   "cell_type": "code",
   "execution_count": 1,
   "metadata": {
    "collapsed": true
   },
   "outputs": [],
   "source": [
    "import numpy as np\n",
    "import random as rand\n",
    "import matplotlib.pyplot as plt"
   ]
  },
  {
   "cell_type": "code",
   "execution_count": 2,
   "metadata": {},
   "outputs": [],
   "source": [
    "data = np.zeros((2,100))\n",
    "data[0] = np.arange(0,1,0.01)\n",
    "data[1] = np.arange(0,1,0.01)\n",
    "for i in range(2):\n",
    "    for j in range(len(data[0])):\n",
    "        data[i][j] += rand.random()/3"
   ]
  },
  {
   "cell_type": "code",
   "execution_count": 164,
   "metadata": {
    "collapsed": true
   },
   "outputs": [],
   "source": [
    "w = rand.random()\n",
    "b = rand.random()\n",
    "\n",
    "def calc(x):\n",
    "    return w*x+b"
   ]
  },
  {
   "cell_type": "code",
   "execution_count": 165,
   "metadata": {},
   "outputs": [
    {
     "data": {
      "image/png": "[encoded data removed]",
      "text/plain": [
       "<matplotlib.figure.Figure at 0x844b2e8>"
      ]
     },
     "metadata": {},
     "output_type": "display_data"
    }
   ],
   "source": [
    "def plt_print():\n",
    "    plt.scatter(data[0],data[1])\n",
    "    np.argmin(data[0])\n",
    "    plt.plot([data[0,0],data[0,99]],[calc(data[0,0]),calc(data[0,99])])\n",
    "    plt.show()\n",
    "plt_print()"
   ]
  },
  {
   "cell_type": "code",
   "execution_count": 166,
   "metadata": {
    "collapsed": true
   },
   "outputs": [],
   "source": [
    "def cost():\n",
    "    return 1/(2*len(data[0]))*sum([(data[0,i]-calc(data[0,i]))**2 for i in range(len(data[0]))])"
   ]
  },
  {
   "cell_type": "code",
   "execution_count": 270,
   "metadata": {},
   "outputs": [
    {
     "name": "stdout",
     "output_type": "stream",
     "text": [
      "a 0.001\n",
      "c 1975.85659932\n",
      "41.7013765875\n",
      "-21.5455584208\n",
      "c 1976.04113788\n"
     ]
    }
   ],
   "source": [
    "a = 0.001\n",
    "c = cost()\n",
    "print(\"a\",a)\n",
    "print(\"c\",c)\n",
    "print(c/w)\n",
    "print(c/b)\n",
    "w += -a*(c/w)\n",
    "b += -a*(c/b)\n",
    "c = cost()\n",
    "print(\"c\",c)"
   ]
  },
  {
   "cell_type": "code",
   "execution_count": 284,
   "metadata": {},
   "outputs": [
    {
     "name": "stdout",
     "output_type": "stream",
     "text": [
      "0  :  253.675092562\n",
      "100  :  259.017526159\n",
      "200  :  265.201472955\n",
      "300  :  272.39214744\n",
      "400  :  280.807208926\n",
      "500  :  290.740708456\n",
      "600  :  302.602280807\n",
      "700  :  316.984883419\n",
      "800  :  334.790266024\n",
      "900  :  357.483547075\n",
      "999  :  387.326450833\n"
     ]
    },
    {
     "data": {
      "image/png": "[encoded data removed]",
      "text/plain": [
       "<matplotlib.figure.Figure at 0x8577128>"
      ]
     },
     "metadata": {},
     "output_type": "display_data"
    }
   ],
   "source": [
    "for step in range(1000):\n",
    "    c = cost()\n",
    "    if c < 0.003:\n",
    "        break\n",
    "    if step%100 == 0:\n",
    "        print(step,\" : \",c)\n",
    "    w += -a*(c/w)\n",
    "    b += -a*(c/b)\n",
    "print(step,\" : \",c)\n",
    "plt_print()"
   ]
  },
  {
   "cell_type": "code",
   "execution_count": null,
   "metadata": {
    "collapsed": true
   },
   "outputs": [],
   "source": []
  }
 ],
 "metadata": {
  "kernelspec": {
   "display_name": "Python 3",
   "language": "python",
   "name": "python3"
  },
  "language_info": {
   "codemirror_mode": {
    "name": "ipython",
    "version": 3
   },
   "file_extension": ".py",
   "mimetype": "text/x-python",
   "name": "python",
   "nbconvert_exporter": "python",
   "pygments_lexer": "ipython3",
   "version": "3.6.1"
  }
 },
 "nbformat": 4,
 "nbformat_minor": 2
}
