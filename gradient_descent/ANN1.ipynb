{
 "cells": [
  {
   "cell_type": "code",
   "execution_count": 1,
   "metadata": {
    "collapsed": true
   },
   "outputs": [],
   "source": [
    "import numpy as np\n",
    "import matplotlib.pyplot as plt"
   ]
  },
  {
   "cell_type": "code",
   "execution_count": 92,
   "metadata": {
    "collapsed": true
   },
   "outputs": [],
   "source": [
    "class Neural_Network(object):\n",
    "    def __init__(self):\n",
    "        self.inputLayerSize = 2\n",
    "        self.outputLayerSize = 1\n",
    "        self.hiddenLayerSize = 3\n",
    "    \n",
    "        self.W1 = np.random.randn(self.inputLayerSize, self.hiddenLayerSize)\n",
    "        self.W2 = np.random.randn(self.hiddenLayerSize, self.outputLayerSize)\n",
    "        \n",
    "        \n",
    "    def forward(self, X):\n",
    "        self.z1 = np.dot(X,self.W1)\n",
    "        self.a1 = self.sigmoid(self.z1)\n",
    "        self.z2 = np.dot(self.a1,self.W2)\n",
    "        self.yHat = self.sigmoid(self.z2)\n",
    "        return yHat\n",
    "        \n",
    "    def sigmoid(self, z):\n",
    "        return 1/(1+np.exp(-z))\n",
    "    \n",
    "    def sigmoidPrime(self, z):\n",
    "        return np.exp(z)/((1+np.exp(z))**2)\n",
    "    \n",
    "    def cost(self, X, y):\n",
    "        self.yHat = self.forward(X)\n",
    "        e = 0.5*sum((y-self.yHat)**2)\n",
    "        return e\n",
    "    \n",
    "    def costPrime(self, X, y):\n",
    "        self.yHat = self.forward(X)\n",
    "        \n",
    "        #output 은 1개 인데 연산을 위해 그전 레이어의 유닛갯수만큼 복사한다.\n",
    "        delta2 = np.multiply(-(y-self.yHat), self.sigmoidPrime(self.z2))\n",
    "        # .T 는 대각선기준으로 반전\n",
    "        dJdW2 = np.dot(self.a1.T, delta2)\n",
    "        \n",
    "        delta1 = np.dot(delta2, self.W2.T)*self.sigmoidPrime(self.z1)\n",
    "        dJdW1 = np.dot(X.T, delta1)\n",
    "        \n",
    "        return dJdW1, dJdW2"
   ]
  },
  {
   "cell_type": "code",
   "execution_count": 93,
   "metadata": {
    "collapsed": false
   },
   "outputs": [],
   "source": [
    "# set\n",
    "X = np.array(([3,5],[5,1],[10,2]), dtype=float)\n",
    "y = np.array(([75],[82],[93]), dtype=float)"
   ]
  },
  {
   "cell_type": "code",
   "execution_count": 94,
   "metadata": {
    "collapsed": true
   },
   "outputs": [],
   "source": [
    "# scaling\n",
    "X = X/np.amax(X, axis=0)\n",
    "y = y/100 #Max test score is 100"
   ]
  },
  {
   "cell_type": "code",
   "execution_count": 100,
   "metadata": {
    "collapsed": false
   },
   "outputs": [
    {
     "name": "stdout",
     "output_type": "stream",
     "text": [
      "[[ 0.03887065  0.03275704 -0.03294603]\n",
      " [ 0.02887116  0.02428534 -0.02144234]]\n",
      "[[-0.09624824]\n",
      " [-0.09380573]\n",
      " [-0.10685984]]\n",
      "[ 0.09860682] [ 0.09860682]\n",
      "[ 0.09860682] [ 0.09860682]\n"
     ]
    }
   ],
   "source": [
    "NN = Neural_Network()\n",
    "cost1 = NN.cost(X,y)\n",
    "dJdW1, dJdW2 = NN.costPrime(X,y)\n",
    "print(dJdW1)\n",
    "print(dJdW2)\n",
    "\n",
    "scalar = 3\n",
    "NN.W1 = NN.W1 + scalar*dJdW1\n",
    "NN.W2 = NN.W2 + scalar*dJdW2\n",
    "cost2 = NN.cost(X,y)\n",
    "print(cost1, cost2)\n",
    "\n",
    "dJdW1, dJdW2 = NN.costPrime(X,y)\n",
    "NN.W1 = NN.W1 - scalar*dJdW1\n",
    "NN.W2 = NN.W2 - scalar*dJdW2\n",
    "cost3 = NN.cost(X, y)\n",
    "print(cost2, cost3)"
   ]
  },
  {
   "cell_type": "code",
   "execution_count": null,
   "metadata": {
    "collapsed": true
   },
   "outputs": [],
   "source": [
    "# test ==================================="
   ]
  },
  {
   "cell_type": "code",
   "execution_count": 75,
   "metadata": {
    "collapsed": false
   },
   "outputs": [
    {
     "name": "stdout",
     "output_type": "stream",
     "text": [
      "0.037356041669227125\n"
     ]
    },
    {
     "data": {
      "image/png": "[encoded data removed]",
      "text/plain": [
       "<matplotlib.figure.Figure at 0x7f54128>"
      ]
     },
     "metadata": {},
     "output_type": "display_data"
    }
   ],
   "source": [
    "import time\n",
    "\n",
    "weightsToTry = np.linspace(-5,5,1000)\n",
    "costs = np.zeros(1000)\n",
    "\n",
    "startTime = time.clock()\n",
    "for i in range(1000):\n",
    "    NN.W1[0,0] = weightsToTry[i]\n",
    "    yHat = NN.forward(X)\n",
    "    costs[i] = 0.5*sum((y-yHat)**2)\n",
    "    \n",
    "endTime = time.clock()\n",
    "timeElapsed = endTime-startTime\n",
    "print(timeElapsed)\n",
    "\n",
    "plt.plot(weightsToTry, costs)\n",
    "plt.grid(1)\n",
    "plt.ylabel('Cost')\n",
    "plt.xlabel('Weight')\n",
    "plt.show()"
   ]
  },
  {
   "cell_type": "code",
   "execution_count": 76,
   "metadata": {
    "collapsed": false
   },
   "outputs": [
    {
     "name": "stdout",
     "output_type": "stream",
     "text": [
      "27.50318320986935\n"
     ]
    }
   ],
   "source": [
    "weightsToTry = np.linspace(-5,5,1000)\n",
    "costs = np.zeros((1000, 1000))\n",
    "\n",
    "startTime = time.clock()\n",
    "for i in range(1000):\n",
    "    for j in range(1000):\n",
    "        NN.W1[0,0] = weightsToTry[i]\n",
    "        NN.W1[0,1] = weightsToTry[j]\n",
    "        yHat = NN.forward(X)\n",
    "        costs[i, j] = 0.5*sum((y-yHat)**2)\n",
    "    \n",
    "endTime = time.clock()\n",
    "timeElapsed = endTime-startTime\n",
    "print(timeElapsed)"
   ]
  },
  {
   "cell_type": "code",
   "execution_count": 10,
   "metadata": {
    "collapsed": false
   },
   "outputs": [
    {
     "data": {
      "text/plain": [
       "1268391679350583.5"
      ]
     },
     "execution_count": 10,
     "metadata": {},
     "output_type": "execute_result"
    }
   ],
   "source": [
    "#           w size\n",
    "0.04*(1000**(9-1))/(3600*24*365)"
   ]
  },
  {
   "cell_type": "code",
   "execution_count": 66,
   "metadata": {
    "collapsed": false
   },
   "outputs": [
    {
     "name": "stdout",
     "output_type": "stream",
     "text": [
      "[ 0.63729631]\n"
     ]
    }
   ],
   "source": [
    "NN = Neural_Network()\n",
    "yhat = NN.forward(X)\n",
    "NN.W1[0,0] = 1.1\n",
    "print(sum(0.5*(y-yhat)**2))"
   ]
  },
  {
   "cell_type": "code",
   "execution_count": 77,
   "metadata": {
    "collapsed": false
   },
   "outputs": [
    {
     "data": {
      "image/png": "[encoded data removed]",
      "text/plain": [
       "<matplotlib.figure.Figure at 0x84a9f60>"
      ]
     },
     "metadata": {},
     "output_type": "display_data"
    }
   ],
   "source": [
    "# sigmoid 미분 함수\n",
    "def sigmoidPrime(z):\n",
    "    return np.exp(z)/((1+np.exp(z))**2)\n",
    "testValues = np.arange(-5,5,0.01)\n",
    "plt.plot(testValues, NN.sigmoid(testValues),linewidth=2)\n",
    "plt.plot(testValues, sigmoidPrime(testValues),linewidth=2)\n",
    "plt.grid(1)\n",
    "plt.show()"
   ]
  }
 ],
 "metadata": {
  "kernelspec": {
   "display_name": "Python 3",
   "language": "python",
   "name": "python3"
  },
  "language_info": {
   "codemirror_mode": {
    "name": "ipython",
    "version": 3
   },
   "file_extension": ".py",
   "mimetype": "text/x-python",
   "name": "python",
   "nbconvert_exporter": "python",
   "pygments_lexer": "ipython3",
   "version": "3.6.0"
  }
 },
 "nbformat": 4,
 "nbformat_minor": 2
}
