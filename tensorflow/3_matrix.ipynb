{
 "cells": [
  {
   "cell_type": "code",
   "execution_count": 1,
   "metadata": {
    "collapsed": true
   },
   "outputs": [],
   "source": [
    "import tensorflow as tf"
   ]
  },
  {
   "cell_type": "code",
   "execution_count": 4,
   "metadata": {
    "collapsed": false,
    "scrolled": true
   },
   "outputs": [
    {
     "name": "stdout",
     "output_type": "stream",
     "text": [
      "(0, 'Cost:', 11153.674, '\\nPrediction:\\n', array([ 53.08945465,  70.0708313 ,  65.71421051,  73.90106201,  72.66766357], dtype=float32))\n",
      "(400, 'Cost:', 58.597828, '\\nPrediction:\\n', array([ 148.14614868,  180.8523407 ,  176.75683594,  193.61068726,\n",
      "        157.64311218], dtype=float32))\n",
      "(800, 'Cost:', 27.486288, '\\nPrediction:\\n', array([ 150.20083618,  181.09553528,  178.21180725,  194.36828613,\n",
      "        152.63435364], dtype=float32))\n",
      "(1200, 'Cost:', 13.957047, '\\nPrediction:\\n', array([ 151.51786804,  181.29695129,  179.1676178 ,  194.85736084,\n",
      "        149.33769226], dtype=float32))\n",
      "(1600, 'Cost:', 7.9973297, '\\nPrediction:\\n', array([ 152.35244751,  181.46936035,  179.79615784,  195.17068481,\n",
      "        147.16407776], dtype=float32))\n",
      "(2000, 'Cost:', 5.302073, '\\nPrediction:\\n', array([ 152.87181091,  181.62121582,  180.21003723,  195.36906433,\n",
      "        145.72718811], dtype=float32))\n"
     ]
    }
   ],
   "source": [
    "#좋지못한 예\n",
    "x1_data = [73.,93.,89.,96.,73.]\n",
    "x2_data = [80.,88.,91.,98.,66.]\n",
    "x3_data = [75.,93.,90.,100.,90.]\n",
    "y_data = [152.,185.,180.,196.,142.]\n",
    "\n",
    "x1 = tf.placeholder(tf.float32)\n",
    "x2 = tf.placeholder(tf.float32)\n",
    "x3 = tf.placeholder(tf.float32)\n",
    "\n",
    "y = tf.placeholder(tf.float32)\n",
    "\n",
    "w1 = tf.Variable(tf.random_normal([1]),name='weight')\n",
    "w2 = tf.Variable(tf.random_normal([1]),name='weight')\n",
    "w3 = tf.Variable(tf.random_normal([1]),name='weight')\n",
    "\n",
    "b = tf.Variable(tf.random_normal([1]),name='bias')\n",
    "\n",
    "hypothesis = x1*w1 + x2*w2 + x3*w3 + b\n",
    "\n",
    "cost = tf.reduce_mean(tf.square(hypothesis - y))\n",
    "\n",
    "optimizer = tf.train.GradientDescentOptimizer(learning_rate=1e-5)\n",
    "train = optimizer.minimize(cost)\n",
    "\n",
    "sess = tf.Session()\n",
    "\n",
    "sess.run(tf.initialize_all_variables())\n",
    "for step in range(2001):\n",
    "    cost_val, hy_val, _ = sess.run([cost, hypothesis, train],\n",
    "                                  feed_dict={x1:x1_data, x2:x2_data, x3:x3_data, y:y_data})\n",
    "    if step % 400 == 0:\n",
    "        print(step, \"Cost:\" , cost_val, \"\\nPrediction:\\n\", hy_val)"
   ]
  },
  {
   "cell_type": "code",
   "execution_count": 10,
   "metadata": {
    "collapsed": false,
    "scrolled": true
   },
   "outputs": [
    {
     "name": "stdout",
     "output_type": "stream",
     "text": [
      "(0, 'Cost:', 53823.406, '\\nPrediction:\\n', array([[-43.61141586],\n",
      "       [-70.40665436],\n",
      "       [-60.06307602],\n",
      "       [-64.74501801],\n",
      "       [-58.00596237]], dtype=float32))\n",
      "(400, 'Cost:', 1474.4418, '\\nPrediction:\\n', array([[ 126.19494629],\n",
      "       [ 133.78659058],\n",
      "       [ 141.0763855 ],\n",
      "       [ 154.34945679],\n",
      "       [ 113.12648773]], dtype=float32))\n",
      "(800, 'Cost:', 79.125076, '\\nPrediction:\\n', array([[ 153.91630554],\n",
      "       [ 167.12666321],\n",
      "       [ 173.91539001],\n",
      "       [ 190.1184845 ],\n",
      "       [ 141.06071472]], dtype=float32))\n",
      "(1200, 'Cost:', 41.901787, '\\nPrediction:\\n', array([[ 158.44104004],\n",
      "       [ 172.57345581],\n",
      "       [ 179.27789307],\n",
      "       [ 195.95802307],\n",
      "       [ 145.61659241]], dtype=float32))\n",
      "(1600, 'Cost:', 40.876854, '\\nPrediction:\\n', array([[ 159.17869568],\n",
      "       [ 173.46641541],\n",
      "       [ 180.15460205],\n",
      "       [ 196.91131592],\n",
      "       [ 146.35575867]], dtype=float32))\n",
      "(2000, 'Cost:', 40.816738, '\\nPrediction:\\n', array([[ 159.29801941],\n",
      "       [ 173.61585999],\n",
      "       [ 180.2988739 ],\n",
      "       [ 197.06678772],\n",
      "       [ 146.47175598]], dtype=float32))\n"
     ]
    }
   ],
   "source": [
    "#좋은 예\n",
    "#매트릭스 / 벡터 계산\n",
    "x_data = [[73.,80.,75.],[93.,88.,93.],[89.,91.,90.],[96.,98.,100.],[73.,66.,90.]]\n",
    "y_data = [[152.],[185.],[180.],[196.],[142.]]\n",
    "\n",
    "x = tf.placeholder(tf.float32, shape=[None, 3])\n",
    "y = tf.placeholder(tf.float32, shape=[None, 1])\n",
    "\n",
    "w = tf.Variable(tf.random_normal([3,1]),name='weight')\n",
    "b = tf.Variable(tf.random_normal([1]),name='bias')\n",
    "\n",
    "hypothesis = tf.matmul(x, w) + b\n",
    "\n",
    "cost = tf.reduce_mean(tf.square(hypothesis - y))\n",
    "\n",
    "optimizer = tf.train.GradientDescentOptimizer(learning_rate=1e-5)\n",
    "train = optimizer.minimize(cost)\n",
    "\n",
    "sess = tf.Session()\n",
    "\n",
    "sess.run(tf.initialize_all_variables())\n",
    "for step in range(2001):\n",
    "    cost_val, hy_val, _ = sess.run([cost, hypothesis, train],\n",
    "                                  feed_dict={x:x_data, y:y_data})\n",
    "    if step % 400 == 0:\n",
    "        print(step, \"Cost:\" , cost_val, \"\\nPrediction:\\n\", hy_val)"
   ]
  }
 ],
 "metadata": {
  "kernelspec": {
   "display_name": "Python 2",
   "language": "python",
   "name": "python2"
  },
  "language_info": {
   "codemirror_mode": {
    "name": "ipython",
    "version": 2
   },
   "file_extension": ".py",
   "mimetype": "text/x-python",
   "name": "python",
   "nbconvert_exporter": "python",
   "pygments_lexer": "ipython2",
   "version": "2.7.6"
  }
 },
 "nbformat": 4,
 "nbformat_minor": 0
}
