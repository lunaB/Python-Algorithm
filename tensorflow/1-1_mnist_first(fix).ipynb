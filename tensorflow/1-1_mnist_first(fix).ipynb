{
 "cells": [
  {
   "cell_type": "code",
   "execution_count": 1,
   "metadata": {
    "collapsed": false
   },
   "outputs": [],
   "source": [
    "from tensorflow.examples.tutorials.mnist import input_data"
   ]
  },
  {
   "cell_type": "code",
   "execution_count": 2,
   "metadata": {
    "collapsed": false
   },
   "outputs": [
    {
     "name": "stdout",
     "output_type": "stream",
     "text": [
      "Extracting mnist_data/train-images-idx3-ubyte.gz\n",
      "Extracting mnist_data/train-labels-idx1-ubyte.gz\n",
      "Extracting mnist_data/t10k-images-idx3-ubyte.gz\n",
      "Extracting mnist_data/t10k-labels-idx1-ubyte.gz\n"
     ]
    }
   ],
   "source": [
    "mnist = input_data.read_data_sets(\"mnist_data/\", one_hot=True)"
   ]
  },
  {
   "cell_type": "code",
   "execution_count": 3,
   "metadata": {
    "collapsed": true
   },
   "outputs": [],
   "source": [
    "import tensorflow as tf"
   ]
  },
  {
   "cell_type": "code",
   "execution_count": 4,
   "metadata": {
    "collapsed": false
   },
   "outputs": [
    {
     "name": "stdout",
     "output_type": "stream",
     "text": [
      "<type 'numpy.ndarray'>\n"
     ]
    }
   ],
   "source": [
    "#print mnist.test.images[0]\n",
    "print type(mnist.test.images[0])"
   ]
  },
  {
   "cell_type": "code",
   "execution_count": 5,
   "metadata": {
    "collapsed": true
   },
   "outputs": [],
   "source": [
    "x = tf.placeholder(tf.float32,[None,784])\n",
    "W = tf.Variable(tf.zeros([784,10]))\n",
    "b = tf.Variable(tf.zeros([10]))\n",
    "y = tf.nn.softmax(tf.matmul(x,W)+b)"
   ]
  },
  {
   "cell_type": "code",
   "execution_count": 6,
   "metadata": {
    "collapsed": true
   },
   "outputs": [],
   "source": [
    "y_ = tf.placeholder(tf.float32,[None,10])\n",
    "cross_entropy = tf.reduce_mean(-tf.reduce_sum(y_ * tf.log(y), reduction_indices=[1]))\n",
    "train_step = tf.train.GradientDescentOptimizer(0.5).minimize(cross_entropy)"
   ]
  },
  {
   "cell_type": "code",
   "execution_count": 7,
   "metadata": {
    "collapsed": false
   },
   "outputs": [],
   "source": [
    "init = tf.initialize_all_variables()\n",
    "sess = tf.Session()\n",
    "sess.run(init)\n",
    "for i in range(1000):\n",
    "    batch_xs, batch_ys = mnist.train.next_batch(100)\n",
    "    sess.run(train_step, feed_dict={x: batch_xs, y_: batch_ys})"
   ]
  },
  {
   "cell_type": "code",
   "execution_count": 9,
   "metadata": {
    "collapsed": false
   },
   "outputs": [
    {
     "name": "stdout",
     "output_type": "stream",
     "text": [
      "0.9207%\n"
     ]
    }
   ],
   "source": [
    "correct_prediction = tf.equal(tf.argmax(y,1),tf.argmax(y_,1))\n",
    "accuracy = tf.reduce_mean(tf.cast(correct_prediction, tf.float32))\n",
    "\n",
    "#정확도 (일치율)\n",
    "print(\"%s%%\" % (sess.run(accuracy, feed_dict={x: mnist.test.images, y_:mnist.test.labels})))"
   ]
  },
  {
   "cell_type": "code",
   "execution_count": 19,
   "metadata": {
    "collapsed": true
   },
   "outputs": [],
   "source": [
    "#직접 테스트 해볼 사진 번호\n",
    "test_index = 90"
   ]
  },
  {
   "cell_type": "code",
   "execution_count": 21,
   "metadata": {
    "collapsed": false
   },
   "outputs": [
    {
     "name": "stdout",
     "output_type": "stream",
     "text": [
      "3\n"
     ]
    }
   ],
   "source": [
    "output_label = sess.run(y, feed_dict={x:[mnist.test.images[test_index]]})[0]\n",
    "print sess.run(tf.argmax(output_label,0))"
   ]
  },
  {
   "cell_type": "code",
   "execution_count": 26,
   "metadata": {
    "collapsed": false
   },
   "outputs": [],
   "source": [
    "#출력 28*28 size\n",
    "import Image \n",
    "img = Image.open(\"b.png\") #Can be many different formats. pix = img.load()\n",
    "pix = img.load()\n",
    "j=0 \n",
    "for i in range(len(mnist.test.images[test_index])):\n",
    "    v = int(mnist.test.images[test_index][i] * 255)\n",
    "    pix[i%img.size[0],j] = (v, v, v)\n",
    "    if i%28 == 27 :\n",
    "        j+=1\n",
    "img.save(\"k3.jpg\")"
   ]
  },
  {
   "cell_type": "code",
   "execution_count": 11,
   "metadata": {
    "collapsed": false,
    "scrolled": false
   },
   "outputs": [
    {
     "name": "stdout",
     "output_type": "stream",
     "text": [
      ". . . . . . . . . . . . . . . . . . . . . . . . . . . . \n",
      ". . . . . . . . . . . . . . . . . . . . . . . . . . . . \n",
      ". . . . . . . . . . . . . . . . . . . . . . . . . . . . \n",
      ". . . . . . . . . . . . . . . . . . . . . . . . . . . . \n",
      ". . . . . . . . . . . . . . . . . . . . . . . . . . . . \n",
      ". . . . . . . . . . 0 0 . . . . . . . 0 0 . . . . . . . \n",
      ". . . . . . . . . . 0 0 . . . . . . . 0 0 . . . . . . . \n",
      ". . . . . . . . . 0 0 0 . . . . . . . 0 0 0 . . . . . . \n",
      ". . . . . . . . . 0 0 0 . . . . . . . 0 0 0 . . . . . . \n",
      ". . . . . . . . 0 0 0 0 . . . . . . . 0 0 0 . . . . . . \n",
      ". . . . . . . . 0 0 0 . . . . . . . 0 0 0 0 . . . . . . \n",
      ". . . . . . . 0 0 0 . . . . . . . . 0 0 0 0 . . . . . . \n",
      ". . . . . . . 0 0 0 . . . . . . . 0 0 0 0 . . . . . . . \n",
      ". . . . . . 0 0 0 . . . . . . . . 0 0 0 . . . . . . . . \n",
      ". . . . . . 0 0 0 . . . . . . . . 0 0 0 . . . . . . . . \n",
      ". . . . . . 0 0 0 0 . . . . . . 0 0 0 0 . . . . . . . . \n",
      ". . . . . . . 0 0 0 0 0 0 0 0 0 0 0 0 0 . . . . . . . . \n",
      ". . . . . . . 0 0 0 0 0 0 0 0 0 0 0 0 0 . . . . . . . . \n",
      ". . . . . . . . . 0 0 0 0 0 . . 0 0 0 . . . . . . . . . \n",
      ". . . . . . . . . . . . . . . . 0 0 0 0 . . . . . . . . \n",
      ". . . . . . . . . . . . . . . . 0 0 0 . . . . . . . . . \n",
      ". . . . . . . . . . . . . . . . 0 0 0 . . . . . . . . . \n",
      ". . . . . . . . . . . . . . . . 0 0 0 . . . . . . . . . \n",
      ". . . . . . . . . . . . . . . . 0 0 0 . . . . . . . . . \n",
      ". . . . . . . . . . . . . . . . 0 0 . . . . . . . . . . \n",
      ". . . . . . . . . . . . . . . . . . . . . . . . . . . . \n",
      ". . . . . . . . . . . . . . . . . . . . . . . . . . . . \n",
      ". . . . . . . . . . . . . . . . . . . . . . . . . . . . \n"
     ]
    }
   ],
   "source": [
    "for i in range(len(mnist.test.images[test_index])):\n",
    "    if mnist.test.images[test_index][i] > 0 :\n",
    "        print(\"0\"),\n",
    "    else :\n",
    "        print(\".\"),\n",
    "    if i%28 == 27 :\n",
    "        print(\"\")"
   ]
  }
 ],
 "metadata": {
  "kernelspec": {
   "display_name": "Python 2",
   "language": "python",
   "name": "python2"
  },
  "language_info": {
   "codemirror_mode": {
    "name": "ipython",
    "version": 2
   },
   "file_extension": ".py",
   "mimetype": "text/x-python",
   "name": "python",
   "nbconvert_exporter": "python",
   "pygments_lexer": "ipython2",
   "version": "2.7.6"
  }
 },
 "nbformat": 4,
 "nbformat_minor": 0
}
