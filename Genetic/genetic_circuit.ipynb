{
 "cells": [
  {
   "cell_type": "code",
   "execution_count": 1,
   "metadata": {
    "collapsed": true
   },
   "outputs": [],
   "source": [
    "# 순회 문제에서의 유전알고리즘 해결"
   ]
  },
  {
   "cell_type": "code",
   "execution_count": 1,
   "metadata": {
    "collapsed": false
   },
   "outputs": [],
   "source": [
    "# import\n",
    "%matplotlib inline\n",
    "import matplotlib.pyplot as plt\n",
    "import numpy as np"
   ]
  },
  {
   "cell_type": "code",
   "execution_count": 2,
   "metadata": {
    "collapsed": false,
    "scrolled": true
   },
   "outputs": [
    {
     "name": "stdout",
     "output_type": "stream",
     "text": [
      "[[ 0.71584669  0.26535372  0.34511439  0.09468069  0.9966939   0.76459031\n",
      "   0.60905271  0.20847491  0.02837971  0.81421162]\n",
      " [ 0.30723334  0.43158214  0.15136854  0.79311057  0.08640863  0.84432344\n",
      "   0.34345276  0.83023394  0.11760499  0.37570532]]\n",
      "[ 0.71584669  0.26535372  0.34511439  0.09468069  0.9966939   0.76459031\n",
      "  0.60905271  0.20847491  0.02837971  0.81421162]\n",
      "[ 0.30723334  0.43158214  0.15136854  0.79311057  0.08640863  0.84432344\n",
      "  0.34345276  0.83023394  0.11760499  0.37570532]\n"
     ]
    }
   ],
   "source": [
    "# # 값 설정하기 (test)\n",
    "# dataNum = 10\n",
    "# data = np.random.rand(2,dataNum)\n",
    "# print(data)\n",
    "\n",
    "# print(data[0]) #xdata\n",
    "# print(data[1]) #ydata"
   ]
  },
  {
   "cell_type": "code",
   "execution_count": 200,
   "metadata": {
    "collapsed": false
   },
   "outputs": [],
   "source": [
    "import matplotlib.pyplot as plt\n",
    "import numpy as np\n",
    "import math\n",
    "\n",
    "# circuit 오직 순회만\n",
    "class Genetic:    \n",
    "    \n",
    "    # 유전자 갯수와 유전 인자수 세팅\n",
    "    def __init__(self,dataNum,geneticNum):\n",
    "        self.dataNum = dataNum\n",
    "        self.geneticNum = geneticNum\n",
    "        self.data = np.random.rand(2,dataNum) * 10\n",
    "    # 초기 유전자 설정\n",
    "    def firstGenetic(self):\n",
    "        # 유전자 수\n",
    "        self.genetic = np.zeros((self.geneticNum,self.dataNum))\n",
    "        for i in range(self.geneticNum):\n",
    "            self.genetic[i] = np.arange(self.dataNum)\n",
    "            np.random.shuffle(self.genetic[i])\n",
    "    \n",
    "    \n",
    "    ########################################################\n",
    "    # 시각화 구현\n",
    "    ########################################################\n",
    "    \n",
    "    # 모델과 모델사이 선긋기\n",
    "    def line(self,n1,n2):\n",
    "        plt.plot([self.data[0][n1],self.data[0][n2]],[self.data[1][n1],self.data[1][n2]])\n",
    "\n",
    "    # 생성순서로 유전자 출력\n",
    "    def order_model(self):\n",
    "        plt.scatter(self.data[0],self.data[1])\n",
    "        for i in range(self.dataNum-1):\n",
    "            self.line(i, i+1)\n",
    "        self.line(0, self.dataNum-1)\n",
    "        self.pltShowProp()\n",
    "        \n",
    "    # 지정한 유전자 출력\n",
    "    def model(self,n):\n",
    "        plt.scatter(self.data[0],self.data[1])\n",
    "        for i in range(self.dataNum-1):\n",
    "            self.line(int(self.genetic[n][i]), int(self.genetic[n][i+1]))\n",
    "        self.line(int(self.genetic[n][0]), int(self.genetic[n][self.dataNum-1]))\n",
    "        self.pltShowProp()\n",
    "        \n",
    "    def pltShowProp(self):\n",
    "        plt.axis([0, 10, 0, 10])\n",
    "        plt.show()\n",
    "    \n",
    "    \n",
    "    ########################################################\n",
    "    # 내부 함수\n",
    "    ########################################################  \n",
    "    \n",
    "    # 적합도 평가 함수\n",
    "    def tolerance(self, n):\n",
    "        return 150 - self.active(n)\n",
    "        \n",
    "    # 거리 구하기\n",
    "    def active(self,n):\n",
    "        _sum = 0\n",
    "        for i in range(self.dataNum-1):\n",
    "#             x, y  self.data[0][self.genetic[n][i]] , self.data[1][self.genetic[n][i]]\n",
    "            _sum += math.sqrt(math.pow(self.data[0][int(self.genetic[n][i+1])] - self.data[0][int(self.genetic[n][i])],2) + \n",
    "                      math.pow(self.data[1][int(self.genetic[n][i+1])] - self.data[1][int(self.genetic[n][i])],2))\n",
    "#             print(math.sqrt(math.pow(self.data[0][int(self.genetic[n][i+1])] - self.data[0][int(self.genetic[n][i])],2) + \n",
    "#                       math.pow(self.data[1][int(self.genetic[n][i+1])] - self.data[1][int(self.genetic[n][i])],2)))\n",
    "        return _sum\n",
    "    \n",
    "    \n",
    "    ########################################################\n",
    "    # 선택 함수\n",
    "    ########################################################\n",
    "    \n",
    "    # 룰렛 적합도를 확률로 사용한 유전자 선정\n",
    "    def roulette(self):\n",
    "        _sum = 0\n",
    "        for i in range(self.geneticNum):\n",
    "            _sum += self.tolerance(i)\n",
    "#         print(sum)\n",
    "        rtmp = np.random.rand()\n",
    "        stmp = 0\n",
    "        for i in range(self.geneticNum):\n",
    "            stmp += self.tolerance(i)\n",
    "            if stmp/_sum >= rtmp :\n",
    "                return i"
   ]
  },
  {
   "cell_type": "code",
   "execution_count": 213,
   "metadata": {
    "collapsed": false
   },
   "outputs": [
    {
     "name": "stdout",
     "output_type": "stream",
     "text": [
      "0 적합도 : 5.309179246024598\n",
      "1 적합도 : 4.529765878300367\n",
      "2 적합도 : 24.971575760421075\n",
      "3 적합도 : 42.00065513645599\n",
      "[  28.   22.  123.  227.]\n"
     ]
    }
   ],
   "source": [
    "g = Genetic(dataNum=25, geneticNum=4)\n",
    "g.firstGenetic() # 초기유전자 설정\n",
    "'''\n",
    "g.order_model() # 생성순서 테스트 출력\n",
    "# g.active(0)  #거리\n",
    "g.model(0)\n",
    "print(\"거리 :\", g.active(0))\n",
    "print(\"적합도 :\", g.tolerance(0))\n",
    "\n",
    "# g.active(1)  #거리\n",
    "g.model(1)\n",
    "print(\"거리 :\", g.active(1))\n",
    "print(\"적합도 :\", g.tolerance(1))\n",
    "\n",
    "print(g.roulette())\n",
    "\n",
    "#print(g.data)\n",
    "print(g.genetic)\n",
    "'''\n",
    "\n",
    "for i in range(g.geneticNum):\n",
    "    print(i,\"적합도 :\",g.tolerance(i))\n",
    "arr = np.zeros(g.geneticNum)\n",
    "for _ in range(400):\n",
    "    arr[g.roulette()]+=1\n",
    "print(arr)"
   ]
  },
  {
   "cell_type": "code",
   "execution_count": 194,
   "metadata": {
    "collapsed": false
   },
   "outputs": [
    {
     "name": "stdout",
     "output_type": "stream",
     "text": [
      "5.489873586205077\n"
     ]
    }
   ],
   "source": [
    "rtmp = np.random.rand()*10\n",
    "print(rtmp)"
   ]
  },
  {
   "cell_type": "code",
   "execution_count": 81,
   "metadata": {
    "collapsed": false
   },
   "outputs": [
    {
     "data": {
      "text/plain": [
       "'\\n# 모델과 모델사이 선긋기 (test)\\ndef line(n1,n2):\\n    plt.scatter(data[0],data[1])\\n    plt.plot([data[0][n1],data[0][n2]],[data[1][n1],data[1][n2]])\\n    \\n# 순차 유전자 출력\\ndef order_model():\\n    for i in range(dataNum-1):\\n        line(i, i+1)\\n    line(0, dataNum-1)\\n\\n# 유전자 수\\ngeneticNum = 20\\n\\ngenetic = np.zeros((geneticNum,dataNum))\\nfor i in range(geneticNum):\\n    genetic[i] = np.arange(dataNum)\\n    np.random.shuffle(genetic[i])\\nprint(genetic)\\n'"
      ]
     },
     "execution_count": 81,
     "metadata": {},
     "output_type": "execute_result"
    }
   ],
   "source": [
    "'''\n",
    "# 모델과 모델사이 선긋기 (test)\n",
    "def line(n1,n2):\n",
    "    plt.scatter(data[0],data[1])\n",
    "    plt.plot([data[0][n1],data[0][n2]],[data[1][n1],data[1][n2]])\n",
    "    \n",
    "# 순차 유전자 출력\n",
    "def order_model():\n",
    "    for i in range(dataNum-1):\n",
    "        line(i, i+1)\n",
    "    line(0, dataNum-1)\n",
    "\n",
    "# 유전자 수\n",
    "geneticNum = 20\n",
    "\n",
    "genetic = np.zeros((geneticNum,dataNum))\n",
    "for i in range(geneticNum):\n",
    "    genetic[i] = np.arange(dataNum)\n",
    "    np.random.shuffle(genetic[i])\n",
    "print(genetic)\n",
    "'''"
   ]
  }
 ],
 "metadata": {
  "kernelspec": {
   "display_name": "Python 3",
   "language": "python",
   "name": "python3"
  },
  "language_info": {
   "codemirror_mode": {
    "name": "ipython",
    "version": 3
   },
   "file_extension": ".py",
   "mimetype": "text/x-python",
   "name": "python",
   "nbconvert_exporter": "python",
   "pygments_lexer": "ipython3",
   "version": "3.6.0"
  }
 },
 "nbformat": 4,
 "nbformat_minor": 2
}
