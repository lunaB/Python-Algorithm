{
 "cells": [
  {
   "cell_type": "code",
   "execution_count": 12,
   "metadata": {
    "collapsed": true
   },
   "outputs": [],
   "source": [
    "import numpy as np\n",
    "import matplotlib.pyplot as plt\n",
    "%matplotlib inline\n",
    "\n",
    "class NN:\n",
    "    def __init__(self,inputnodes, hiddennodes, outputnodes, learningrate):\n",
    "        self.inodes = inputnodes\n",
    "        self.hnodes = hiddennodes\n",
    "        self.onodes = outputnodes\n",
    "        \n",
    "        self.lr = learningrate\n",
    "        \n",
    "        self.w_ih = np.random.normal(0.0, pow(self.hnodes, -0.5), (self.hnodes, self.inodes))\n",
    "        self.w_ho = np.random.normal(0.0, pow(self.onodes, -0.5), (self.onodes, self.hnodes))\n",
    "    \n",
    "    def act_func(self, x):\n",
    "        return 1/(1+np.exp(-x))\n",
    "    \n",
    "    def train(self, inputs_list, targets_list):\n",
    "        inputs = np.array(inputs_list, ndmin=2).T\n",
    "        targets = np.array(targets_list, ndmin=2).T\n",
    "        \n",
    "        hidden_inputs = np.dot(self.w_ih, inputs)\n",
    "        hidden_outputs = self.act_func(hidden_inputs)\n",
    "        \n",
    "        final_inputs = np.dot(self.w_ho, hidden_outputs)\n",
    "        final_outputs = self.act_func(final_inputs)\n",
    "        \n",
    "        # hidden과 output 사이\n",
    "        output_errors = targets - final_outputs\n",
    "        \n",
    "        # input과 hidden 사이\n",
    "        hidden_errors = np.dot(self.w_ho.T, output_errors)\n",
    "        \n",
    "        self.w_ho += self.lr * np.dot((output_errors * final_outputs * (1.0 - final_outputs)), hidden_outputs.T)\n",
    "        self.w_ih += self.lr * np.dot((hidden_errors * hidden_outputs * (1.0 - hidden_outputs)), inputs.T)\n",
    "        \n",
    "        \n",
    "    def query(self, input_list):\n",
    "        inputs = np.array(input_list, ndmin=2).T\n",
    "        \n",
    "        hidden_inputs = np.dot(self.w_ih, inputs)\n",
    "        hidden_outputs = self.act_func(hidden_inputs)\n",
    "        \n",
    "        final_inputs = np.dot(self.w_ho, hidden_outputs)\n",
    "        final_outputs = self.act_func(final_inputs)\n",
    "        \n",
    "        return final_outputs"
   ]
  },
  {
   "cell_type": "code",
   "execution_count": 13,
   "metadata": {},
   "outputs": [],
   "source": [
    "# 데이터 로드\n",
    "# https://pjreddie.com/projects/mnist-in-csv/\n",
    "data_file = open(\"./mnist_train.csv\",'r');\n",
    "data_list = data_file.readlines()\n",
    "data_file.close()"
   ]
  },
  {
   "cell_type": "code",
   "execution_count": 49,
   "metadata": {},
   "outputs": [],
   "source": [
    "# 학습\n",
    "inode = 28*28\n",
    "hnode = 28*28\n",
    "onode = 10\n",
    "learning_rate = 0.1\n",
    "\n",
    "nn = NN(inode,hnode,onode,learning_rate)\n",
    "\n",
    "for record in data_list:\n",
    "    datas = np.asfarray(record.split(','))\n",
    "    input_data = (datas[1:]/255*0.99) + 0.01\n",
    "    target_data = np.ones(onode)*0.001\n",
    "    target_data[int(datas[0])] = 1\n",
    "    nn.train(input_data, target_data)\n",
    "    \n",
    "# label = np.asfarray(values[0])\n",
    "# plt.imshow(img_arr, cmap='Greys', interpolation='None')\n",
    "# plt.show()"
   ]
  },
  {
   "cell_type": "code",
   "execution_count": 172,
   "metadata": {},
   "outputs": [
    {
     "name": "stderr",
     "output_type": "stream",
     "text": [
      "C:\\ProgramData\\Anaconda3\\lib\\site-packages\\ipykernel_launcher.py:17: RuntimeWarning: overflow encountered in exp\n"
     ]
    },
    {
     "data": {
      "image/png": "[encoded data removed]",
      "text/plain": [
       "<matplotlib.figure.Figure at 0x195b9748>"
      ]
     },
     "metadata": {},
     "output_type": "display_data"
    },
    {
     "name": "stdout",
     "output_type": "stream",
     "text": [
      "this image :  1\n",
      "Output :  1\n",
      "[[ 0.00000267]\n",
      " [ 0.99995839]\n",
      " [ 0.00243249]\n",
      " [ 0.00044887]\n",
      " [ 0.0025693 ]\n",
      " [ 0.00025998]\n",
      " [ 0.00009858]\n",
      " [ 0.00014451]\n",
      " [ 0.0016547 ]\n",
      " [ 0.00067719]]\n"
     ]
    }
   ],
   "source": [
    "# 케이스 테스트\n",
    "case = 18800\n",
    "datas = np.asfarray(data_list[case].split(','))\n",
    "\n",
    "input_data = datas[1:]\n",
    "target_data = datas[0]\n",
    "\n",
    "output = nn.query(input_data)\n",
    "\n",
    "plt.imshow(input_data.reshape((28,28)), cmap='Greys', interpolation='None')\n",
    "plt.show()\n",
    "\n",
    "# 소수 과학적 표기 -> 일반적 표기로 전환\n",
    "def array_print(list):\n",
    "    np.set_printoptions(suppress=True)\n",
    "    print(list)\n",
    "    np.set_printoptions(suppress=False)    \n",
    "\n",
    "print(\"this image : \",int(target_data))\n",
    "print(\"Output : \", np.argmax(output))\n",
    "array_print(output)"
   ]
  },
  {
   "cell_type": "code",
   "execution_count": 171,
   "metadata": {},
   "outputs": [
    {
     "data": {
      "image/png": "[encoded data removed]",
      "text/plain": [
       "<matplotlib.figure.Figure at 0x18a2c908>"
      ]
     },
     "metadata": {},
     "output_type": "display_data"
    },
    {
     "name": "stdout",
     "output_type": "stream",
     "text": [
      "Output :  5\n",
      "[[ 0.00002548]\n",
      " [ 0.00155988]\n",
      " [ 0.00000502]\n",
      " [ 0.04183913]\n",
      " [ 0.00005153]\n",
      " [ 0.96730834]\n",
      " [ 0.00019297]\n",
      " [ 0.00001373]\n",
      " [ 0.00013175]\n",
      " [ 0.00119114]]\n"
     ]
    }
   ],
   "source": [
    "# 직접 그린 데이터로 질의\n",
    "from PIL import Image\n",
    "im = Image.open(\"test.png\")\n",
    "pix = im.load()\n",
    "\n",
    "t = np.zeros((28,28))\n",
    "\n",
    "for i in range(28):\n",
    "    for j in range(28):\n",
    "        t[j,i] = 255 - (sum(pix[i,j])/3)\n",
    "\n",
    "plt.imshow(t, cmap='Greys')\n",
    "plt.show()\n",
    "test_input_data = (t.reshape(28*28)/255*0.99)+0.01\n",
    "test_output_data = nn.query(test_input_data)\n",
    "\n",
    "print(\"Output : \", np.argmax(test_output_data))\n",
    "array_print(test_output_data)"
   ]
  },
  {
   "cell_type": "code",
   "execution_count": null,
   "metadata": {
    "collapsed": true
   },
   "outputs": [],
   "source": []
  }
 ],
 "metadata": {
  "kernelspec": {
   "display_name": "Python 3",
   "language": "python",
   "name": "python3"
  },
  "language_info": {
   "codemirror_mode": {
    "name": "ipython",
    "version": 3
   },
   "file_extension": ".py",
   "mimetype": "text/x-python",
   "name": "python",
   "nbconvert_exporter": "python",
   "pygments_lexer": "ipython3",
   "version": "3.6.1"
  }
 },
 "nbformat": 4,
 "nbformat_minor": 2
}
