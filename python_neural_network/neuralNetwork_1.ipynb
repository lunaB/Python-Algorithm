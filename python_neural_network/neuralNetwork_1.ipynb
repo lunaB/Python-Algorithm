{
 "cells": [
  {
   "cell_type": "code",
   "execution_count": 2,
   "metadata": {
    "collapsed": true
   },
   "outputs": [],
   "source": [
    "import numpy as np\n",
    "import scipy as sc\n",
    "import matplotlib.pyplot as plt\n",
    "%matplotlib inline\n"
   ]
  },
  {
   "cell_type": "code",
   "execution_count": 5,
   "metadata": {
    "collapsed": false
   },
   "outputs": [
    {
     "name": "stdout",
     "output_type": "stream",
     "text": [
      "[[ 0.65799448  0.37136087  0.72993446  0.84464026  0.59417956]\n",
      " [ 0.11230287  0.08618824  0.43154966  0.48056837  0.23297076]\n",
      " [ 0.01156493  0.35768324  0.8125595   0.86509748  0.23163473]\n",
      " [ 0.31766998  0.61137565  0.35725936  0.50359189  0.44980414]\n",
      " [ 0.58184431  0.84243714  0.65516545  0.67432937  0.4222521 ]]\n"
     ]
    },
    {
     "data": {
      "image/png": "[encoded data removed]",
      "text/plain": [
       "<matplotlib.figure.Figure at 0x7ef3d30>"
      ]
     },
     "metadata": {},
     "output_type": "display_data"
    }
   ],
   "source": [
    "\n",
    "a = np.random.rand(5,5)\n",
    "print(a)\n",
    "plt.imshow(a,interpolation='nearest')\n",
    "plt.show()\n",
    "#plt.imshow(a)\n"
   ]
  },
  {
   "cell_type": "code",
   "execution_count": 17,
   "metadata": {
    "collapsed": false
   },
   "outputs": [
    {
     "name": "stdout",
     "output_type": "stream",
     "text": [
      "input  : \n",
      " [[ 1. ]\n",
      " [ 0.5]\n",
      " [ 0.8]]\n",
      "[[ 0.49496979]\n",
      " [-1.76690693]\n",
      " [ 2.32623419]]\n",
      "[[ 0.62127649]\n",
      " [ 0.1459274 ]\n",
      " [ 0.91102656]]\n",
      "[[ 2.14599399]\n",
      " [ 3.05975732]\n",
      " [-2.01525104]]\n",
      "output : \n",
      " [[ 0.89529384]\n",
      " [ 0.95520191]\n",
      " [ 0.11761094]]\n",
      "error  : \n",
      " [[-0.79529384]\n",
      " [-0.05520191]\n",
      " [ 0.18238906]]\n",
      "[[-1.59476572]\n",
      " [-1.89697704]\n",
      " [-1.07082347]]\n"
     ]
    },
    {
     "ename": "ValueError",
     "evalue": "shapes (3,1) and (3,1) not aligned: 1 (dim 1) != 3 (dim 0)",
     "output_type": "error",
     "traceback": [
      "\u001b[0;31m---------------------------------------------------------------------------\u001b[0m",
      "\u001b[0;31mValueError\u001b[0m                                Traceback (most recent call last)",
      "\u001b[0;32m<ipython-input-17-48b010cd4e73>\u001b[0m in \u001b[0;36m<module>\u001b[0;34m()\u001b[0m\n\u001b[1;32m     45\u001b[0m \u001b[1;33m\u001b[0m\u001b[0m\n\u001b[1;32m     46\u001b[0m \u001b[1;31m# 에러 active 미분 함수 적용\u001b[0m\u001b[1;33m\u001b[0m\u001b[1;33m\u001b[0m\u001b[0m\n\u001b[0;32m---> 47\u001b[0;31m \u001b[0mes2\u001b[0m \u001b[1;33m=\u001b[0m \u001b[0mlr\u001b[0m\u001b[1;33m*\u001b[0m\u001b[0mnp\u001b[0m\u001b[1;33m.\u001b[0m\u001b[0mdot\u001b[0m\u001b[1;33m(\u001b[0m\u001b[1;33m(\u001b[0m\u001b[0me\u001b[0m\u001b[1;33m*\u001b[0m\u001b[0ms2\u001b[0m\u001b[1;33m*\u001b[0m\u001b[1;33m(\u001b[0m\u001b[1;36m1.0\u001b[0m \u001b[1;33m-\u001b[0m \u001b[0ms2\u001b[0m\u001b[1;33m)\u001b[0m\u001b[1;33m)\u001b[0m\u001b[1;33m,\u001b[0m\u001b[0ms1\u001b[0m\u001b[1;33m)\u001b[0m\u001b[1;33m\u001b[0m\u001b[0m\n\u001b[0m\u001b[1;32m     48\u001b[0m \u001b[0mprint\u001b[0m\u001b[1;33m(\u001b[0m\u001b[0mes2\u001b[0m\u001b[1;33m)\u001b[0m\u001b[1;33m\u001b[0m\u001b[0m\n",
      "\u001b[0;31mValueError\u001b[0m: shapes (3,1) and (3,1) not aligned: 1 (dim 1) != 3 (dim 0)"
     ]
    }
   ],
   "source": [
    "# sigmoid 함수\n",
    "def act(x):\n",
    "    return 1/(1+np.exp(-x))\n",
    "\n",
    "# sigmoid 미분함수\n",
    "def actb(x):\n",
    "    return act(x)*(1-act(x))\n",
    "\n",
    "#학습 데이터\n",
    "x = np.array([1,0.5,0.8],ndmin=2).T\n",
    "y = np.array([0.1,0.9,0.3],ndmin=2).T\n",
    "\n",
    "print(\"input  : \\n\",x)\n",
    "\n",
    "# 가중치\n",
    "W1 = np.random.normal(0.0,pow(3,0.5),size=(3,3))\n",
    "W2 = np.random.normal(0.0,pow(3,0.5),size=(3,3))\n",
    "\n",
    "# 학습률\n",
    "lr = 0.1\n",
    "\n",
    "# 합한값\n",
    "a1 = np.dot(W1,x)\n",
    "print(a1)\n",
    "\n",
    "# active 함수 적용\n",
    "s1 = act(a1)\n",
    "print(s1)\n",
    "\n",
    "# 합한값\n",
    "a2 = np.dot(W2,s1)\n",
    "print(a2)\n",
    "\n",
    "# active 함수 적용 (결과)\n",
    "s2 = act(a2)\n",
    "print(\"output : \\n\",s2)\n",
    "\n",
    "# 에러값\n",
    "e = y-s2\n",
    "print(\"error  : \\n\",e)\n",
    "\n",
    "# 에러 분배\n",
    "ea2 = np.dot(W2.T,e)\n",
    "print(ea2)\n",
    "\n",
    "# 에러 active 미분 함수 적용\n",
    "es2 = lr*np.dot((e*s2*(1.0 - s2)),s1)\n",
    "print(es2)"
   ]
  },
  {
   "cell_type": "code",
   "execution_count": 14,
   "metadata": {
    "collapsed": false
   },
   "outputs": [],
   "source": [
    "import numpy as np\n",
    "import scipy.special as spe\n",
    "import matplotlib.pyplot as plt\n",
    "%matplotlib inline\n",
    "\n",
    "class NN:\n",
    "    def __init__(self,inputnodes, hiddennodes, outputnodes, learningrate):\n",
    "        self.inodes = inputnodes\n",
    "        self.hnodes = hiddennodes\n",
    "        self.onodes = outputnodes\n",
    "        \n",
    "        self.lr = learningrate\n",
    "        \n",
    "        self.w_ih = np.random.normal(0.0, pow(self.hnodes, -0.5), (self.hnodes, self.inodes))\n",
    "        self.w_ho = np.random.normal(0.0, pow(self.onodes, -0.5), (self.onodes, self.hnodes))\n",
    "    \n",
    "    def act_func(self, x):\n",
    "        return 1/(1+np.exp(-x))\n",
    "    \n",
    "    def train(self, inputs_list, targets_list):\n",
    "        inputs = np.array(inputs_list, ndmin=2).T\n",
    "        targets = np.array(targets_list, ndmin=2).T\n",
    "        \n",
    "        hidden_inputs = np.dot(self.w_ih, inputs)\n",
    "        hidden_outputs = self.act_func(hidden_inputs)\n",
    "        \n",
    "        final_inputs = np.dot(self.w_ho, hidden_outputs)\n",
    "        final_outputs = self.act_func(final_inputs)\n",
    "        \n",
    "        # hidden과 output 사이\n",
    "        output_errors = targets - final_outputs\n",
    "        \n",
    "        # input과 hidden 사이\n",
    "        hidden_errors = np.dot(self.w_ho.T, output_errors)\n",
    "        \n",
    "        self.w_ho += self.lr * np.dot((output_errors * final_outputs * (1.0 - final_outputs)), hidden_outputs.T)\n",
    "        self.w_ih += self.lr * np.dot((hidden_errors * hidden_outputs * (1.0 - hidden_outputs)), inputs.T)\n",
    "        \n",
    "        \n",
    "    def query(self, input_list):\n",
    "        inputs = np.array(input_list, ndmin=2).T\n",
    "        \n",
    "        hidden_inputs = np.dot(self.w_ih, inputs)\n",
    "        hidden_outputs = self.act_func(hidden_inputs)\n",
    "        \n",
    "        final_inputs = np.dot(self.w_ho, hidden_outputs)\n",
    "        final_outputs = self.act_func(final_inputs)\n",
    "        \n",
    "        return final_outputs"
   ]
  },
  {
   "cell_type": "code",
   "execution_count": 26,
   "metadata": {
    "collapsed": false
   },
   "outputs": [
    {
     "name": "stdout",
     "output_type": "stream",
     "text": [
      "2\n"
     ]
    }
   ],
   "source": [
    "# 숫자속 동그라미의 갯수를 학습시킴\n",
    "\n",
    "i = 4\n",
    "h = 10\n",
    "o = 8\n",
    "\n",
    "l = 0.2\n",
    "\n",
    "nn = NN(i,h,o,l)\n",
    "\n",
    "input_data = np.array([[7,1,1,1],[8,8,0,9],[2,1,7,2],[6,6,6,6],[1,1,1,1],\n",
    "               [2,2,2,2],[7,6,6,2],[9,3,1,3],[0,0,0,0],[5,5,5,5],\n",
    "               [8,1,9,3],[8,0,9,6],[4,3,9,8],[9,4,7,5],[9,0,3,8],\n",
    "               [3,1,4,8]])\n",
    "\n",
    "target_data_temp = np.array([0,6,0,4,0,0,2,1,4,0,3,5,3,1,4,2])\n",
    "\n",
    "# for i in range(16):\n",
    "#     print(input_data[i],target_data_temp[i])\n",
    "\n",
    "input_data = input_data\n",
    "target_data = np.zeros((len(input_data),o))\n",
    "\n",
    "for i in range(len(target_data)):\n",
    "    target_data[i,target_data_temp[i]] = 1\n",
    "#print(target_data)\n",
    "\n",
    "test = [0,2,2,0]\n",
    "\n",
    "for _ in range(1000):\n",
    "    for i in range(len(input_data)):\n",
    "        nn.train(input_data[i],target_data[i])\n",
    "print(np.argmax(nn.query(test)))"
   ]
  },
  {
   "cell_type": "code",
   "execution_count": null,
   "metadata": {
    "collapsed": true
   },
   "outputs": [],
   "source": [
    "'''\n",
    "def f(x):\n",
    "    return (x-0.4)**2\n",
    "\n",
    "input_data = np.arange(0,1,0.01)\n",
    "target_data = f(input_data)\n",
    "\n",
    "plt.plot(input_data, target_data)\n",
    "plt.show()\n",
    "\n",
    "for _ in range(500):\n",
    "    for i in range(len(input_data)):\n",
    "        nn.train(input_data[i], target_data[i])\n",
    "\n",
    "plt.plot(input_data, np.array([nn.query(x)[0] for x in input_data]))\n",
    "plt.show()\n",
    "'''"
   ]
  },
  {
   "cell_type": "code",
   "execution_count": null,
   "metadata": {
    "collapsed": true
   },
   "outputs": [],
   "source": []
  }
 ],
 "metadata": {
  "kernelspec": {
   "display_name": "Python 3",
   "language": "python",
   "name": "python3"
  },
  "language_info": {
   "codemirror_mode": {
    "name": "ipython",
    "version": 3
   },
   "file_extension": ".py",
   "mimetype": "text/x-python",
   "name": "python",
   "nbconvert_exporter": "python",
   "pygments_lexer": "ipython3",
   "version": "3.6.0"
  }
 },
 "nbformat": 4,
 "nbformat_minor": 2
}
