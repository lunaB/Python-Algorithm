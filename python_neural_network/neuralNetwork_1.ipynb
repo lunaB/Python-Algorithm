{
 "cells": [
  {
   "cell_type": "code",
   "execution_count": 2,
   "metadata": {
    "collapsed": true
   },
   "outputs": [],
   "source": [
    "import numpy as np\n",
    "import scipy as sc\n",
    "import matplotlib.pyplot as plt\n",
    "%matplotlib inline\n"
   ]
  },
  {
   "cell_type": "code",
   "execution_count": 5,
   "metadata": {
    "collapsed": false
   },
   "outputs": [
    {
     "name": "stdout",
     "output_type": "stream",
     "text": [
      "[[ 0.65799448  0.37136087  0.72993446  0.84464026  0.59417956]\n",
      " [ 0.11230287  0.08618824  0.43154966  0.48056837  0.23297076]\n",
      " [ 0.01156493  0.35768324  0.8125595   0.86509748  0.23163473]\n",
      " [ 0.31766998  0.61137565  0.35725936  0.50359189  0.44980414]\n",
      " [ 0.58184431  0.84243714  0.65516545  0.67432937  0.4222521 ]]\n"
     ]
    },
    {
     "data": {
      "image/png": "[encoded data removed]",
      "text/plain": [
       "<matplotlib.figure.Figure at 0x7ef3d30>"
      ]
     },
     "metadata": {},
     "output_type": "display_data"
    }
   ],
   "source": [
    "\n",
    "a = np.random.rand(5,5)\n",
    "print(a)\n",
    "plt.imshow(a,interpolation='nearest')\n",
    "plt.show()\n",
    "#plt.imshow(a)\n"
   ]
  },
  {
   "cell_type": "code",
   "execution_count": 17,
   "metadata": {
    "collapsed": false
   },
   "outputs": [
    {
     "name": "stdout",
     "output_type": "stream",
     "text": [
      "input  : \n",
      " [[ 1. ]\n",
      " [ 0.5]\n",
      " [ 0.8]]\n",
      "[[ 0.49496979]\n",
      " [-1.76690693]\n",
      " [ 2.32623419]]\n",
      "[[ 0.62127649]\n",
      " [ 0.1459274 ]\n",
      " [ 0.91102656]]\n",
      "[[ 2.14599399]\n",
      " [ 3.05975732]\n",
      " [-2.01525104]]\n",
      "output : \n",
      " [[ 0.89529384]\n",
      " [ 0.95520191]\n",
      " [ 0.11761094]]\n",
      "error  : \n",
      " [[-0.79529384]\n",
      " [-0.05520191]\n",
      " [ 0.18238906]]\n",
      "[[-1.59476572]\n",
      " [-1.89697704]\n",
      " [-1.07082347]]\n"
     ]
    },
    {
     "ename": "ValueError",
     "evalue": "shapes (3,1) and (3,1) not aligned: 1 (dim 1) != 3 (dim 0)",
     "output_type": "error",
     "traceback": [
      "\u001b[0;31m---------------------------------------------------------------------------\u001b[0m",
      "\u001b[0;31mValueError\u001b[0m                                Traceback (most recent call last)",
      "\u001b[0;32m<ipython-input-17-48b010cd4e73>\u001b[0m in \u001b[0;36m<module>\u001b[0;34m()\u001b[0m\n\u001b[1;32m     45\u001b[0m \u001b[1;33m\u001b[0m\u001b[0m\n\u001b[1;32m     46\u001b[0m \u001b[1;31m# 에러 active 미분 함수 적용\u001b[0m\u001b[1;33m\u001b[0m\u001b[1;33m\u001b[0m\u001b[0m\n\u001b[0;32m---> 47\u001b[0;31m \u001b[0mes2\u001b[0m \u001b[1;33m=\u001b[0m \u001b[0mlr\u001b[0m\u001b[1;33m*\u001b[0m\u001b[0mnp\u001b[0m\u001b[1;33m.\u001b[0m\u001b[0mdot\u001b[0m\u001b[1;33m(\u001b[0m\u001b[1;33m(\u001b[0m\u001b[0me\u001b[0m\u001b[1;33m*\u001b[0m\u001b[0ms2\u001b[0m\u001b[1;33m*\u001b[0m\u001b[1;33m(\u001b[0m\u001b[1;36m1.0\u001b[0m \u001b[1;33m-\u001b[0m \u001b[0ms2\u001b[0m\u001b[1;33m)\u001b[0m\u001b[1;33m)\u001b[0m\u001b[1;33m,\u001b[0m\u001b[0ms1\u001b[0m\u001b[1;33m)\u001b[0m\u001b[1;33m\u001b[0m\u001b[0m\n\u001b[0m\u001b[1;32m     48\u001b[0m \u001b[0mprint\u001b[0m\u001b[1;33m(\u001b[0m\u001b[0mes2\u001b[0m\u001b[1;33m)\u001b[0m\u001b[1;33m\u001b[0m\u001b[0m\n",
      "\u001b[0;31mValueError\u001b[0m: shapes (3,1) and (3,1) not aligned: 1 (dim 1) != 3 (dim 0)"
     ]
    }
   ],
   "source": [
    "# sigmoid 함수\n",
    "def act(x):\n",
    "    return 1/(1+np.exp(-x))\n",
    "\n",
    "# sigmoid 미분함수\n",
    "def actb(x):\n",
    "    return act(x)*(1-act(x))\n",
    "\n",
    "#학습 데이터\n",
    "x = np.array([1,0.5,0.8],ndmin=2).T\n",
    "y = np.array([0.1,0.9,0.3],ndmin=2).T\n",
    "\n",
    "print(\"input  : \\n\",x)\n",
    "\n",
    "# 가중치\n",
    "W1 = np.random.normal(0.0,pow(3,0.5),size=(3,3))\n",
    "W2 = np.random.normal(0.0,pow(3,0.5),size=(3,3))\n",
    "\n",
    "# 학습률\n",
    "lr = 0.1\n",
    "\n",
    "# 합한값\n",
    "a1 = np.dot(W1,x)\n",
    "print(a1)\n",
    "\n",
    "# active 함수 적용\n",
    "s1 = act(a1)\n",
    "print(s1)\n",
    "\n",
    "# 합한값\n",
    "a2 = np.dot(W2,s1)\n",
    "print(a2)\n",
    "\n",
    "# active 함수 적용 (결과)\n",
    "s2 = act(a2)\n",
    "print(\"output : \\n\",s2)\n",
    "\n",
    "# 에러값\n",
    "e = y-s2\n",
    "print(\"error  : \\n\",e)\n",
    "\n",
    "# 에러 분배\n",
    "ea2 = np.dot(W2.T,e)\n",
    "print(ea2)\n",
    "\n",
    "# 에러 active 미분 함수 적용\n",
    "es2 = lr*np.dot((e*s2*(1.0 - s2)),s1)\n",
    "print(es2)"
   ]
  },
  {
   "cell_type": "code",
   "execution_count": 3,
   "metadata": {
    "collapsed": false
   },
   "outputs": [],
   "source": [
    "import numpy as np\n",
    "import scipy.special as spe\n",
    "import matplotlib.pyplot as plt\n",
    "%matplotlib inline\n",
    "\n",
    "class NN:\n",
    "    def __init__(self,inputnodes, hiddennodes, outputnodes, learningrate):\n",
    "        self.inodes = inputnodes\n",
    "        self.hnodes = hiddennodes\n",
    "        self.onodes = outputnodes\n",
    "        \n",
    "        self.lr = learningrate\n",
    "        \n",
    "        self.w_ih = np.random.normal(0.0, pow(self.hnodes, -0.5), (self.hnodes, self.inodes))\n",
    "        self.w_ho = np.random.normal(0.0, pow(self.onodes, -0.5), (self.onodes, self.hnodes))\n",
    "    \n",
    "    def act_func(self, x):\n",
    "        return 1/(1+np.exp(-x))\n",
    "    \n",
    "    def train(self, inputs_list, targets_list):\n",
    "        inputs = np.array(inputs_list, ndmin=2).T\n",
    "        targets = np.array(targets_list, ndmin=2).T\n",
    "        \n",
    "        hidden_inputs = np.dot(self.w_ih, inputs)\n",
    "        hidden_outputs = self.act_func(hidden_inputs)\n",
    "        \n",
    "        final_inputs = np.dot(self.w_ho, hidden_outputs)\n",
    "        final_outputs = self.act_func(final_inputs)\n",
    "        \n",
    "        # hidden과 output 사이\n",
    "        output_errors = targets - final_outputs\n",
    "        \n",
    "        # input과 hidden 사이\n",
    "        hidden_errors = np.dot(self.w_ih, output_errors)\n",
    "        \n",
    "        self.w_ho += self.lr * np.dot((output_errors * final_outputs * (1.0 - final_outputs)), np.transpose(hidden_outputs))\n",
    "        self.w_ih += self.lr * np.dot((hidden_errors * hidden_outputs * (1.0 - hidden_outputs)), np.transpose(inputs))\n",
    "        \n",
    "        pass\n",
    "        \n",
    "    def query(self, input_list):\n",
    "        inputs = np.array(input_list,ndmin=2).T\n",
    "        \n",
    "        hidden_inputs = np.dot(self.w_ih, inputs)\n",
    "        hidden_outputs = self.act_func(hidden_inputs)\n",
    "        \n",
    "        final_inputs = np.dot(self.w_ho, hidden_outputs)\n",
    "        final_outputs = self.act_func(final_inputs)\n",
    "        \n",
    "        return final_outputs"
   ]
  },
  {
   "cell_type": "code",
   "execution_count": 89,
   "metadata": {
    "collapsed": false
   },
   "outputs": [
    {
     "data": {
      "image/png": "[encoded data removed]",
      "text/plain": [
       "<matplotlib.figure.Figure at 0x90b3dd8>"
      ]
     },
     "metadata": {},
     "output_type": "display_data"
    },
    {
     "data": {
      "image/png": "[encoded data removed]",
      "text/plain": [
       "<matplotlib.figure.Figure at 0x8fb82b0>"
      ]
     },
     "metadata": {},
     "output_type": "display_data"
    }
   ],
   "source": [
    "i = 1\n",
    "h = 3\n",
    "o = 1\n",
    "\n",
    "l = 0.3\n",
    "\n",
    "nn = NN(i,h,o,l)\n",
    "\n",
    "def f(x):\n",
    "    return np.sinh(x)\n",
    "\n",
    "input_data = np.arange(1,10,0.1)\n",
    "target_data = f(input_data)\n",
    "# 스케일링\n",
    "input_data = input_data/np.amax(input_data)\n",
    "target_data = target_data/np.amax(target_data)\n",
    "\n",
    "plt.plot(input_data, target_data)\n",
    "plt.show()\n",
    "\n",
    "for _ in range(100):\n",
    "    for i in range(len(input_data)):\n",
    "        nn.train(input_data[i], target_data[i])\n",
    "\n",
    "plt.plot(input_data, np.array([nn.query(x)[0] for x in input_data]))\n",
    "plt.show()\n",
    "\n"
   ]
  },
  {
   "cell_type": "code",
   "execution_count": 36,
   "metadata": {
    "collapsed": false
   },
   "outputs": [
    {
     "name": "stdout",
     "output_type": "stream",
     "text": [
      "[[0 1 2]\n",
      " [3 4 5]\n",
      " [6 7 8]]\n",
      "[[0 3 6]\n",
      " [1 4 7]\n",
      " [2 5 8]]\n",
      "[[0 3 6]\n",
      " [1 4 7]\n",
      " [2 5 8]]\n"
     ]
    },
    {
     "ename": "ValueError",
     "evalue": "The truth value of an array with more than one element is ambiguous. Use a.any() or a.all()",
     "output_type": "error",
     "traceback": [
      "\u001b[0;31m---------------------------------------------------------------------------\u001b[0m",
      "\u001b[0;31mValueError\u001b[0m                                Traceback (most recent call last)",
      "\u001b[0;32m<ipython-input-36-f50b47a1ba5d>\u001b[0m in \u001b[0;36m<module>\u001b[0;34m()\u001b[0m\n\u001b[1;32m      4\u001b[0m \u001b[0mprint\u001b[0m\u001b[1;33m(\u001b[0m\u001b[0ma\u001b[0m\u001b[1;33m.\u001b[0m\u001b[0mT\u001b[0m\u001b[1;33m)\u001b[0m\u001b[1;33m\u001b[0m\u001b[0m\n\u001b[1;32m      5\u001b[0m \u001b[1;33m\u001b[0m\u001b[0m\n\u001b[0;32m----> 6\u001b[0;31m \u001b[1;32mif\u001b[0m \u001b[0mnp\u001b[0m\u001b[1;33m.\u001b[0m\u001b[0mequal\u001b[0m\u001b[1;33m(\u001b[0m\u001b[0mnp\u001b[0m\u001b[1;33m.\u001b[0m\u001b[0mtranspose\u001b[0m\u001b[1;33m(\u001b[0m\u001b[0ma\u001b[0m\u001b[1;33m)\u001b[0m\u001b[1;33m,\u001b[0m \u001b[0ma\u001b[0m\u001b[1;33m.\u001b[0m\u001b[0mT\u001b[0m\u001b[1;33m)\u001b[0m\u001b[1;33m:\u001b[0m\u001b[1;33m\u001b[0m\u001b[0m\n\u001b[0m\u001b[1;32m      7\u001b[0m     \u001b[0mprint\u001b[0m\u001b[1;33m(\u001b[0m\u001b[1;34m\"d\"\u001b[0m\u001b[1;33m)\u001b[0m\u001b[1;33m\u001b[0m\u001b[0m\n",
      "\u001b[0;31mValueError\u001b[0m: The truth value of an array with more than one element is ambiguous. Use a.any() or a.all()"
     ]
    }
   ],
   "source": [
    "a = np.array(range(9)).reshape(3,3)\n",
    "print(a)\n",
    "print(np.transpose(a))\n",
    "print(a.T)\n",
    "\n"
   ]
  }
 ],
 "metadata": {
  "kernelspec": {
   "display_name": "Python 3",
   "language": "python",
   "name": "python3"
  }
 },
 "nbformat": 4,
 "nbformat_minor": 2
}
