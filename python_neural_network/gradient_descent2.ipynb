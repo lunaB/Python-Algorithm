{
 "cells": [
  {
   "cell_type": "code",
   "execution_count": 2,
   "metadata": {
    "collapsed": true
   },
   "outputs": [],
   "source": [
    "import numpy as np\n",
    "import matplotlib.pyplot as plt\n",
    "%matplotlib inline"
   ]
  },
  {
   "cell_type": "code",
   "execution_count": 43,
   "metadata": {
    "collapsed": false
   },
   "outputs": [
    {
     "name": "stdout",
     "output_type": "stream",
     "text": [
      "[[[ 0.67147302  0.95322639]\n",
      "  [ 0.1780776   0.02500319]\n",
      "  [ 0.70514631  0.77964624]]\n",
      "\n",
      " [[ 0.37024045  0.4012409 ]\n",
      "  [ 0.43607246  0.92337964]\n",
      "  [ 0.21685168  0.14162842]]]\n",
      "0.671473016623\n",
      "0.953226385076\n",
      "\n",
      "0.178077600417\n",
      "0.0250031878889\n",
      "\n",
      "0.705146314702\n",
      "0.779646241108\n",
      "\n"
     ]
    }
   ],
   "source": [
    "x = np.array([1,2])\n",
    "hln = [3,3] #hidden layer num\n",
    "w = np.random.rand(len(hln),hln[0],len(x))\n",
    "print(w)"
   ]
  },
  {
   "cell_type": "code",
   "execution_count": 20,
   "metadata": {
    "collapsed": false
   },
   "outputs": [
    {
     "name": "stdout",
     "output_type": "stream",
     "text": [
      "[[ 4 10 18]\n",
      " [ 1  4  9]]\n"
     ]
    }
   ],
   "source": [
    "a = np.array([1,2,3])\n",
    "b = np.array(([4,5,6],[1,2,3]))\n",
    "print(a*b)"
   ]
  },
  {
   "cell_type": "code",
   "execution_count": 3,
   "metadata": {
    "collapsed": false
   },
   "outputs": [
    {
     "name": "stdout",
     "output_type": "stream",
     "text": [
      "[[  3.   5.]\n",
      " [  5.   1.]\n",
      " [ 10.   2.]]\n",
      "[[ 75.]\n",
      " [ 82.]\n",
      " [ 93.]]\n",
      "\n",
      "[ 10.   5.]\n",
      "[[ 0.3  1. ]\n",
      " [ 0.5  0.2]\n",
      " [ 1.   0.4]]\n",
      "[[ 0.75]\n",
      " [ 0.82]\n",
      " [ 0.93]]\n"
     ]
    }
   ],
   "source": [
    "import numpy as np\n",
    "import matplotlib.pyplot as plt\n",
    "%matplotlib inline\n",
    "\n",
    "# x와 y 데이터셋이 존재하는 학습방법 supervised learning\n",
    "# ANN 뉴런학습방법\n",
    "# 회귀 : 연속적인 값\n",
    "\n",
    "x = np.array(([3,5],[5,1],[10,2]), dtype=float)\n",
    "y = np.array(([75],[82],[93]), dtype=float)\n",
    "\n",
    "print(x)\n",
    "print(y)\n",
    "\n",
    "# 시험은 100 점이상 나오면 안된다\n",
    "# scaling 이라고 부름\n",
    "\n",
    "# [[0,3,1],\n",
    "#  [2,1,5]]\n",
    "# axis 는 0 일경우 열의 최대값 [2,3,5]\n",
    "#         1 일경우 행의 최대값 [3,5]\n",
    "# x/max(x)  y/max(y)\n",
    "print()\n",
    "print(np.amax(x,axis=0))\n",
    "x = x/np.amax(x,axis=0)\n",
    "y = y/100 #최대 점수가 100점\n",
    "\n",
    "print(x)\n",
    "print(y)\n",
    "\n",
    "#2,3,1\n",
    "\n"
   ]
  },
  {
   "cell_type": "code",
   "execution_count": 10,
   "metadata": {
    "collapsed": false
   },
   "outputs": [
    {
     "name": "stdout",
     "output_type": "stream",
     "text": [
      "[[  3.   5.]\n",
      " [  5.   1.]\n",
      " [ 10.   2.]]\n",
      "[[ 0.99843623  0.59819021  0.51138354]\n",
      " [ 0.0179005   0.49019337  0.1932971 ]]\n",
      "[[ 75.]\n",
      " [ 82.]\n",
      " [ 93.]]\n",
      "[[  3.08481119   4.24553747   2.50063614]\n",
      " [  5.01008163   3.48114444   2.7502148 ]\n",
      " [ 10.02016326   6.96228887   5.50042961]]\n"
     ]
    }
   ],
   "source": [
    "x = np.array(([3,5],[5,1],[10,2]), dtype=float)\n",
    "y = np.array(([75],[82],[93]), dtype=float)\n",
    "w = np.random.rand(2,3)\n",
    "\n",
    "print(x)\n",
    "print(w)\n",
    "print(y)\n",
    "\n",
    "print(np.matmul(x,w))"
   ]
  },
  {
   "cell_type": "code",
   "execution_count": 7,
   "metadata": {
    "collapsed": false
   },
   "outputs": [
    {
     "name": "stdout",
     "output_type": "stream",
     "text": [
      "[[ 0.56692786]\n",
      " [ 0.6357165 ]\n",
      " [ 0.63953149]]\n",
      "[[ 0.75]\n",
      " [ 0.82]\n",
      " [ 0.93]]\n"
     ]
    }
   ],
   "source": [
    "NN = Neural_Network()\n",
    "yhat = NN.forward(x)\n",
    "print(yhat)\n",
    "print(y)"
   ]
  },
  {
   "cell_type": "code",
   "execution_count": 5,
   "metadata": {
    "collapsed": true
   },
   "outputs": [],
   "source": [
    "class Neural_Network(object):\n",
    "    def __init__(self):\n",
    "        self.inputLayerSize = 2\n",
    "        self.outputLayerSize = 1\n",
    "        self.hiddenLayerSize = 3\n",
    "    \n",
    "        self.w1 = np.random.randn(self.inputLayerSize,self.hiddenLayerSize)\n",
    "        self.w2 = np.random.randn(self.hiddenLayerSize,self.outputLayerSize)\n",
    "        \n",
    "        \n",
    "    def forward(self, x):\n",
    "        self.z1 = np.dot(x,self.w1)\n",
    "        self.a1 = self.sigmoid(self.z1)\n",
    "        self.z2 = np.dot(self.a1,self.w2)\n",
    "        yhat = self.sigmoid(self.z2)\n",
    "        return yhat\n",
    "        \n",
    "    def sigmoid(self,z):\n",
    "        return 1/(1+np.exp(-z))"
   ]
  },
  {
   "cell_type": "code",
   "execution_count": 13,
   "metadata": {
    "collapsed": false
   },
   "outputs": [
    {
     "data": {
      "image/png": "[encoded data removed]",
      "text/plain": [
       "<matplotlib.figure.Figure at 0x491acc0>"
      ]
     },
     "metadata": {},
     "output_type": "display_data"
    }
   ],
   "source": [
    "def sigmoid(z):\n",
    "    return 1/(1+np.exp(-z))\n",
    "testInput = np.arange(-6,6,0.01)\n",
    "plt.plot(testInput,sigmoid(testInput),linewidth=2)\n",
    "plt.grid(1)"
   ]
  },
  {
   "cell_type": "code",
   "execution_count": 8,
   "metadata": {
    "collapsed": false
   },
   "outputs": [
    {
     "name": "stdout",
     "output_type": "stream",
     "text": [
      "0.03881067998530696\n"
     ]
    }
   ],
   "source": [
    "import time\n",
    "\n",
    "weightsToTry = np.linspace(-5,5,1000)\n",
    "costs = np.zeros(1000)\n",
    "\n",
    "s = time.clock()\n",
    "for i in range(1000):\n",
    "    NN.w1[0,0] = weightsToTry[i]\n",
    "    yHat = NN.forward(x)\n",
    "    costs[i] = 0.5*sum((y-yHat)**2)\n",
    "e = time.clock()\n",
    "print(e-s)"
   ]
  }
 ],
 "metadata": {
  "kernelspec": {
   "display_name": "Python 3",
   "language": "python",
   "name": "python3"
  },
  "language_info": {
   "codemirror_mode": {
    "name": "ipython",
    "version": 3
   },
   "file_extension": ".py",
   "mimetype": "text/x-python",
   "name": "python",
   "nbconvert_exporter": "python",
   "pygments_lexer": "ipython3",
   "version": "3.6.0"
  }
 },
 "nbformat": 4,
 "nbformat_minor": 2
}
