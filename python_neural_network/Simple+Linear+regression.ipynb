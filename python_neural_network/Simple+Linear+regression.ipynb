{
 "cells": [
  {
   "cell_type": "code",
   "execution_count": 1,
   "metadata": {
    "collapsed": true
   },
   "outputs": [],
   "source": [
    "import numpy as np\n",
    "import matplotlib.pyplot as plt"
   ]
  },
  {
   "cell_type": "code",
   "execution_count": 2,
   "metadata": {
    "collapsed": true
   },
   "outputs": [],
   "source": [
    "dset = np.array([[i,i] for i in range(50)], dtype=float)\n",
    "for i in range(len(dset)):\n",
    "    for j in range(2):\n",
    "        dset[i,j] += np.random.rand() *10 + 0.1\n",
    "        \n",
    "# 초기화\n",
    "W = np.random.rand()*2-1\n",
    "# b = np.random.rand()"
   ]
  },
  {
   "cell_type": "code",
   "execution_count": 3,
   "metadata": {
    "scrolled": false
   },
   "outputs": [],
   "source": [
    "\n",
    "def n(v):\n",
    "    print(round(v))\n",
    "\n",
    "# 시각화\n",
    "def plot():\n",
    "    plt.scatter(dset.T[0],dset.T[1])\n",
    "    plt.plot(dset.T[0],h(dset.T[0]))\n",
    "    plt.show()\n",
    "\n",
    "# 회귀함수\n",
    "def h(x):\n",
    "    return W*x\n",
    "\n",
    "# 비용\n",
    "def cost():\n",
    "    return 1/len(dset) * sum([(h(dset[i,0]) - dset[i,1])**2 for i in range(len(dset))])"
   ]
  },
  {
   "cell_type": "code",
   "execution_count": 7,
   "metadata": {},
   "outputs": [
    {
     "data": {
      "image/png": "[encoded data removed]",
      "text/plain": [
       "<matplotlib.figure.Figure at 0x93a7c88>"
      ]
     },
     "metadata": {},
     "output_type": "display_data"
    },
    {
     "name": "stdout",
     "output_type": "stream",
     "text": [
      "::cost::\n",
      "1831.0\n",
      "945.0\n",
      "151.0\n",
      "2337.0\n",
      "1445.0\n",
      "517.0\n",
      "237.0\n",
      "129.0\n",
      "80.0\n",
      "55.0\n",
      "40.0\n"
     ]
    },
    {
     "data": {
      "image/png": "[encoded data removed]",
      "text/plain": [
       "<matplotlib.figure.Figure at 0x9441d30>"
      ]
     },
     "metadata": {},
     "output_type": "display_data"
    }
   ],
   "source": [
    "plot()\n",
    "\n",
    "# 학습률\n",
    "a = 0.00001\n",
    "\n",
    "C = 0\n",
    "print(\"::cost::\")\n",
    "for i in range(1001):\n",
    "    C = cost()\n",
    "    # 학습률\n",
    "    dW = -a*C/W\n",
    "    W += dW\n",
    "    if i%100== 0: n(C)\n",
    "\n",
    "plot()"
   ]
  },
  {
   "cell_type": "code",
   "execution_count": null,
   "metadata": {
    "collapsed": true
   },
   "outputs": [],
   "source": []
  }
 ],
 "metadata": {
  "kernelspec": {
   "display_name": "Python 3",
   "language": "python",
   "name": "python3"
  },
  "language_info": {
   "codemirror_mode": {
    "name": "ipython",
    "version": 3
   },
   "file_extension": ".py",
   "mimetype": "text/x-python",
   "name": "python",
   "nbconvert_exporter": "python",
   "pygments_lexer": "ipython3",
   "version": "3.5.3"
  }
 },
 "nbformat": 4,
 "nbformat_minor": 2
}
