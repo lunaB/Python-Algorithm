{
 "cells": [
  {
   "cell_type": "code",
   "execution_count": 1,
   "metadata": {
    "collapsed": true
   },
   "outputs": [],
   "source": [
    "import tensorflow as tf"
   ]
  },
  {
   "cell_type": "code",
   "execution_count": 2,
   "metadata": {
    "collapsed": false
   },
   "outputs": [],
   "source": [
    "# 학습 데이터\n",
    "train_X = [1,2,3,4,5]\n",
    "train_Y = [2,3,4,5,6]\n",
    "\n",
    "# 텐서 변수\n",
    "W = tf.Variable(tf.random_normal([1]), name='weight')\n",
    "b = tf.Variable(tf.random_normal([1]), name='bias')\n",
    "X = tf.placeholder(tf.float32, shape=[None])\n",
    "Y = tf.placeholder(tf.float32, shape=[None])"
   ]
  },
  {
   "cell_type": "code",
   "execution_count": 3,
   "metadata": {
    "collapsed": true
   },
   "outputs": [],
   "source": [
    "# 함수\n",
    "hypothesis = X * W + b"
   ]
  },
  {
   "cell_type": "code",
   "execution_count": 4,
   "metadata": {
    "collapsed": true
   },
   "outputs": [],
   "source": [
    "# 텐서 코스트합수\n",
    "cost = tf.reduce_mean(tf.square(hypothesis - Y))"
   ]
  },
  {
   "cell_type": "code",
   "execution_count": 5,
   "metadata": {
    "collapsed": true
   },
   "outputs": [],
   "source": [
    "#mininize 코스트 최소\n",
    "optimizer = tf.train.GradientDescentOptimizer(learning_rate=0.01)\n",
    "train = optimizer.minimize(cost)"
   ]
  },
  {
   "cell_type": "code",
   "execution_count": 6,
   "metadata": {
    "collapsed": false
   },
   "outputs": [
    {
     "name": "stdout",
     "output_type": "stream",
     "text": [
      "(0, 1.576004, array([ 0.48570761], dtype=float32), array([ 1.86785448], dtype=float32))\n",
      "(200, 0.04163181, array([ 0.86797994], dtype=float32), array([ 1.47663414], dtype=float32))\n",
      "(400, 0.01074224, array([ 0.93293834], dtype=float32), array([ 1.24211419], dtype=float32))\n",
      "(600, 0.0027718139, array([ 0.96593487], dtype=float32), array([ 1.12298572], dtype=float32))\n",
      "(800, 0.00071521045, array([ 0.98269612], dtype=float32), array([ 1.06247258], dtype=float32))\n",
      "(1000, 0.00018454525, array([ 0.99121016], dtype=float32), array([ 1.03173399], dtype=float32))\n",
      "(1200, 4.7618112e-05, array([ 0.99553508], dtype=float32), array([ 1.01611984], dtype=float32))\n",
      "(1400, 1.2288318e-05, array([ 0.9977318], dtype=float32), array([ 1.00818872], dtype=float32))\n",
      "(1600, 3.1702905e-06, array([ 0.99884796], dtype=float32), array([ 1.00415933], dtype=float32))\n",
      "(1800, 8.1833434e-07, array([ 0.99941474], dtype=float32), array([ 1.00211298], dtype=float32))\n",
      "(2000, 2.1114366e-07, array([ 0.99970257], dtype=float32), array([ 1.00107348], dtype=float32))\n"
     ]
    }
   ],
   "source": [
    "sess = tf.Session()\n",
    "init = tf.initialize_all_variables()\n",
    "sess.run(init)\n",
    "\n",
    "for step in range(2001):\n",
    "    cost_val, W_val, b_val, _ = \\\n",
    "    sess.run([cost,W,b,train],feed_dict={X:train_X,Y:train_Y})\n",
    "    if step % 200 == 0:\n",
    "        print(step, cost_val, W_val, b_val)"
   ]
  },
  {
   "cell_type": "code",
   "execution_count": 7,
   "metadata": {
    "collapsed": false
   },
   "outputs": [
    {
     "name": "stdout",
     "output_type": "stream",
     "text": [
      "w=[ 0.99970257], b=[ 1.00107348]\n"
     ]
    }
   ],
   "source": [
    "print(\"w=%s, b=%s\" % (sess.run(W),sess.run(b))) #1,1"
   ]
  },
  {
   "cell_type": "code",
   "execution_count": 8,
   "metadata": {
    "collapsed": false
   },
   "outputs": [
    {
     "name": "stdout",
     "output_type": "stream",
     "text": [
      "[ 10.99809933]\n"
     ]
    }
   ],
   "source": [
    "print(sess.run(hypothesis, feed_dict={X:[10]})) #11"
   ]
  }
 ],
 "metadata": {
  "kernelspec": {
   "display_name": "Python 2",
   "language": "python",
   "name": "python2"
  },
  "language_info": {
   "codemirror_mode": {
    "name": "ipython",
    "version": 2
   },
   "file_extension": ".py",
   "mimetype": "text/x-python",
   "name": "python",
   "nbconvert_exporter": "python",
   "pygments_lexer": "ipython2",
   "version": "2.7.6"
  }
 },
 "nbformat": 4,
 "nbformat_minor": 0
}
